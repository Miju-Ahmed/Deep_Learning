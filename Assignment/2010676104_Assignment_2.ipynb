{
 "cells": [
  {
   "cell_type": "markdown",
   "id": "4f765aea",
   "metadata": {},
   "source": [
    "Import Module"
   ]
  },
  {
   "cell_type": "code",
   "execution_count": 2,
   "id": "100af247",
   "metadata": {},
   "outputs": [],
   "source": [
    "from tensorflow.keras.layers import Dense, Flatten, Activation, GlobalAveragePooling2D\n",
    "from tensorflow.keras.datasets.cifar100 import load_data\n",
    "from tensorflow.keras.applications import MobileNetV2, ResNet50, InceptionV3, VGG16, EfficientNetB0, DenseNet121, Xception, NASNetMobile, InceptionResNetV2, EfficientNetV2B0\n",
    "from tensorflow.keras.models import Model;\n",
    "from tensorflow.keras.utils import to_categorical\n",
    "from tensorflow.keras.optimizers import Adam\n",
    "import tensorflow as tf\n",
    "import numpy as np\n",
    "import random"
   ]
  },
  {
   "cell_type": "code",
   "execution_count": 3,
   "id": "4a306ccf",
   "metadata": {},
   "outputs": [],
   "source": [
    "SEED =  50\n",
    "random.seed(SEED)\n",
    "np.random.seed(SEED)\n",
    "tf.random.set_seed(SEED)"
   ]
  },
  {
   "cell_type": "code",
   "execution_count": 4,
   "id": "173e47e0",
   "metadata": {},
   "outputs": [],
   "source": [
    "(x_train, y_train), (x_test, y_test) = load_data(label_mode='fine')"
   ]
  },
  {
   "cell_type": "code",
   "execution_count": 5,
   "id": "43811704",
   "metadata": {},
   "outputs": [],
   "source": [
    "classes = random.sample(range(100), 20)"
   ]
  },
  {
   "cell_type": "code",
   "execution_count": 6,
   "id": "b773de82",
   "metadata": {},
   "outputs": [],
   "source": [
    "def filter_classes(x,y,selected):\n",
    "    x_filtered = []\n",
    "    y_filtered = []\n",
    "    class_map = {cls: idx for idx, cls in enumerate(selected)}\n",
    "    for img, label in zip(x,y):\n",
    "        if label[0] in selected:\n",
    "            x_filtered.append(img)\n",
    "            y_filtered.append(class_map[label[0]])\n",
    "    return np.array(x_filtered), np.array(y_filtered)"
   ]
  },
  {
   "cell_type": "code",
   "execution_count": 7,
   "id": "4644679d",
   "metadata": {},
   "outputs": [],
   "source": [
    "x_train, y_train = filter_classes(x_train, y_train, classes)\n",
    "x_test, y_test = filter_classes(x_test, y_test, classes)"
   ]
  },
  {
   "cell_type": "code",
   "execution_count": 8,
   "id": "c4436ab8",
   "metadata": {},
   "outputs": [],
   "source": [
    "def preprocess_data(x,y):\n",
    "    x = tf.image.resize(x,(224,224))/255.0\n",
    "    y = to_categorical(y, num_classes=20)\n",
    "    return x,y"
   ]
  },
  {
   "cell_type": "code",
   "execution_count": 9,
   "id": "1bbf7a7f",
   "metadata": {},
   "outputs": [
    {
     "name": "stderr",
     "output_type": "stream",
     "text": [
      "2025-05-26 23:43:03.444885: I tensorflow/stream_executor/cuda/cuda_gpu_executor.cc:980] successful NUMA node read from SysFS had negative value (-1), but there must be at least one NUMA node, so returning NUMA node zero\n",
      "2025-05-26 23:43:03.640166: W tensorflow/stream_executor/platform/default/dso_loader.cc:64] Could not load dynamic library 'libcudnn.so.8'; dlerror: libcudnn.so.8: cannot open shared object file: No such file or directory\n",
      "2025-05-26 23:43:03.640219: W tensorflow/core/common_runtime/gpu/gpu_device.cc:1934] Cannot dlopen some GPU libraries. Please make sure the missing libraries mentioned above are installed properly if you would like to use GPU. Follow the guide at https://www.tensorflow.org/install/gpu for how to download and setup the required libraries for your platform.\n",
      "Skipping registering GPU devices...\n",
      "2025-05-26 23:43:03.642564: I tensorflow/core/platform/cpu_feature_guard.cc:193] This TensorFlow binary is optimized with oneAPI Deep Neural Network Library (oneDNN) to use the following CPU instructions in performance-critical operations:  AVX2 FMA\n",
      "To enable them in other operations, rebuild TensorFlow with the appropriate compiler flags.\n",
      "2025-05-26 23:43:03.798483: W tensorflow/core/framework/cpu_allocator_impl.cc:82] Allocation of 6021120000 exceeds 10% of free system memory.\n",
      "2025-05-26 23:43:10.489549: W tensorflow/core/framework/cpu_allocator_impl.cc:82] Allocation of 6021120000 exceeds 10% of free system memory.\n",
      "2025-05-26 23:43:25.058951: W tensorflow/core/framework/cpu_allocator_impl.cc:82] Allocation of 1204224000 exceeds 10% of free system memory.\n",
      "2025-05-26 23:43:26.172969: W tensorflow/core/framework/cpu_allocator_impl.cc:82] Allocation of 1204224000 exceeds 10% of free system memory.\n"
     ]
    }
   ],
   "source": [
    "x_train, y_train = preprocess_data(x_train, y_train)\n",
    "x_test, y_test = preprocess_data(x_test, y_test)"
   ]
  },
  {
   "cell_type": "markdown",
   "id": "5f3fee0a",
   "metadata": {},
   "source": [
    "1. MobileNetV2"
   ]
  },
  {
   "cell_type": "code",
   "execution_count": 10,
   "id": "26da3d6c",
   "metadata": {},
   "outputs": [],
   "source": [
    "model_0 = MobileNetV2(weights='imagenet', include_top=False, input_shape=(224,224,3))\n",
    "model_0.trainable = False # Freeze base layers"
   ]
  },
  {
   "cell_type": "code",
   "execution_count": 11,
   "id": "023dd90b",
   "metadata": {},
   "outputs": [],
   "source": [
    "inputs = model_0.input\n",
    "output = model_0.output\n",
    "x = GlobalAveragePooling2D()(output)\n",
    "outputs = Dense(20, activation='relu')(x)\n",
    "model = Model(inputs, outputs)\n",
    "# model.summary(show_trainable=True)"
   ]
  },
  {
   "cell_type": "code",
   "execution_count": 12,
   "id": "5cee0828",
   "metadata": {},
   "outputs": [
    {
     "name": "stdout",
     "output_type": "stream",
     "text": [
      "282/282 [==============================] - 109s 372ms/step - loss: 6.3035 - accuracy: 0.1051 - val_loss: 4.7608 - val_accuracy: 0.1590\n"
     ]
    }
   ],
   "source": [
    "model.compile(optimizer=Adam(1e-4), loss='categorical_crossentropy', metrics=['accuracy'])\n",
    "history = model.fit(x_train, y_train, epochs=1, batch_size=32, validation_split=0.1)"
   ]
  },
  {
   "cell_type": "code",
   "execution_count": 13,
   "id": "b703ce8b",
   "metadata": {},
   "outputs": [
    {
     "name": "stdout",
     "output_type": "stream",
     "text": [
      "63/63 [==============================] - 21s 333ms/step - loss: 4.7812 - accuracy: 0.1595\n",
      "Test Accuracy for MobileNetV2: 15.95%\n"
     ]
    }
   ],
   "source": [
    "loss, acc = model.evaluate(x_test, y_test)\n",
    "print(f\"Test Accuracy for MobileNetV2: {acc*100:.2f}%\")"
   ]
  },
  {
   "cell_type": "markdown",
   "id": "8812b45e",
   "metadata": {},
   "source": [
    "ResNet50"
   ]
  },
  {
   "cell_type": "markdown",
   "id": "34039ba3",
   "metadata": {},
   "source": [
    "2. Pretrained model ResNet50"
   ]
  },
  {
   "cell_type": "code",
   "execution_count": 14,
   "id": "ce9a2c32",
   "metadata": {},
   "outputs": [],
   "source": [
    "model_resnet = ResNet50(weights='imagenet', include_top=False, input_shape=(224,224,3))\n",
    "model_resnet.trainable = False"
   ]
  },
  {
   "cell_type": "code",
   "execution_count": 17,
   "id": "280cd359",
   "metadata": {},
   "outputs": [],
   "source": [
    "inputs = model_resnet.input\n",
    "outputs = model_resnet.output\n",
    "\n",
    "x = GlobalAveragePooling2D()(outputs)\n",
    "outputs = Dense(20, activation='relu')(x)\n",
    "model = Model(inputs, outputs)\n",
    "# model.summary()"
   ]
  },
  {
   "cell_type": "code",
   "execution_count": 18,
   "id": "b8e8beb1",
   "metadata": {},
   "outputs": [
    {
     "name": "stdout",
     "output_type": "stream",
     "text": [
      "282/282 [==============================] - 411s 1s/step - loss: 6.0819 - accuracy: 0.0541 - val_loss: 6.2199 - val_accuracy: 0.0610\n"
     ]
    }
   ],
   "source": [
    "model.compile(optimizer=Adam(1e-4), loss='categorical_crossentropy', metrics=['accuracy'])\n",
    "history = model.fit(x_train, y_train, batch_size=32, epochs=1, validation_split=0.1)"
   ]
  },
  {
   "cell_type": "code",
   "execution_count": 19,
   "id": "55fe1d4e",
   "metadata": {},
   "outputs": [
    {
     "name": "stdout",
     "output_type": "stream",
     "text": [
      "63/63 [==============================] - 83s 1s/step - loss: 6.0583 - accuracy: 0.0645\n",
      "Test Accuracy for ResNet50: 6.45%\n"
     ]
    }
   ],
   "source": [
    "loss, acc = model.evaluate(x_test, y_test)\n",
    "print(f\"Test Accuracy for ResNet50: {acc*100:.2f}%\")"
   ]
  },
  {
   "cell_type": "markdown",
   "id": "5a9f23ae",
   "metadata": {},
   "source": [
    "3. VGG16 model"
   ]
  },
  {
   "cell_type": "code",
   "execution_count": 20,
   "id": "d861afa4",
   "metadata": {},
   "outputs": [],
   "source": [
    "model_vgg16 = VGG16(weights='imagenet', include_top=False, input_shape=(224,224,3))\n",
    "model_vgg16.trainable = False"
   ]
  },
  {
   "cell_type": "code",
   "execution_count": 21,
   "id": "56552b4e",
   "metadata": {},
   "outputs": [],
   "source": [
    "inputs = model_vgg16.input\n",
    "outputs = model_vgg16.output\n",
    "x = GlobalAveragePooling2D()(outputs)\n",
    "outputs = Dense(20, activation='relu')(x)\n",
    "model = Model(inputs, outputs)\n",
    "# model.summary(show_trainable=True)"
   ]
  },
  {
   "cell_type": "code",
   "execution_count": 22,
   "id": "3d80431a",
   "metadata": {},
   "outputs": [
    {
     "name": "stderr",
     "output_type": "stream",
     "text": [
      "2025-05-26 23:56:34.285636: W tensorflow/core/framework/cpu_allocator_impl.cc:82] Allocation of 411041792 exceeds 10% of free system memory.\n"
     ]
    },
    {
     "name": "stdout",
     "output_type": "stream",
     "text": [
      "282/282 [==============================] - 977s 3s/step - loss: 6.6968 - accuracy: 0.0624 - val_loss: 6.7637 - val_accuracy: 0.0880\n"
     ]
    }
   ],
   "source": [
    "model.compile(optimizer=Adam(1e-4), loss='categorical_crossentropy', metrics=['accuracy'])\n",
    "history = model.fit(x_train, y_train, batch_size=32, epochs=1, validation_split = 0.1)"
   ]
  },
  {
   "cell_type": "code",
   "execution_count": 23,
   "id": "9c328feb",
   "metadata": {},
   "outputs": [
    {
     "name": "stdout",
     "output_type": "stream",
     "text": [
      "63/63 [==============================] - 194s 3s/step - loss: 6.5961 - accuracy: 0.0895\n",
      "Test Accuracy for VGG16: 8.95%\n"
     ]
    }
   ],
   "source": [
    "loss, acc = model.evaluate(x_test, y_test)\n",
    "print(f\"Test Accuracy for VGG16: {acc*100:.2f}%\")"
   ]
  },
  {
   "cell_type": "markdown",
   "id": "75d1f005",
   "metadata": {},
   "source": [
    "4. EfficientNetB0 Model"
   ]
  },
  {
   "cell_type": "code",
   "execution_count": 24,
   "id": "a954ab60",
   "metadata": {},
   "outputs": [
    {
     "name": "stdout",
     "output_type": "stream",
     "text": [
      "Downloading data from https://storage.googleapis.com/keras-applications/efficientnetb0_notop.h5\n",
      "16705208/16705208 [==============================] - 6s 0us/step\n"
     ]
    }
   ],
   "source": [
    "model_efficientnet = EfficientNetB0(weights='imagenet', include_top=False, input_shape=(224,224,3))\n",
    "model_efficientnet.trainable = False"
   ]
  },
  {
   "cell_type": "code",
   "execution_count": 25,
   "id": "4848f361",
   "metadata": {},
   "outputs": [],
   "source": [
    "inputs = model_efficientnet.input\n",
    "outputs = model_efficientnet.output\n",
    "x = GlobalAveragePooling2D()(outputs)\n",
    "outputs = Dense(20, activation='relu')(x)\n",
    "model = Model(inputs, outputs)\n",
    "# model.summary(show_trainable=True)"
   ]
  },
  {
   "cell_type": "code",
   "execution_count": 26,
   "id": "04013b59",
   "metadata": {},
   "outputs": [
    {
     "name": "stdout",
     "output_type": "stream",
     "text": [
      "282/282 [==============================] - 205s 710ms/step - loss: 7.9335 - accuracy: 0.0519 - val_loss: 8.1428 - val_accuracy: 0.0510\n"
     ]
    }
   ],
   "source": [
    "model.compile(optimizer=Adam(1e-4), loss='categorical_crossentropy', metrics=['accuracy'])\n",
    "history = model.fit(x_train, y_train, batch_size=32, epochs=1, validation_split = 0.1)"
   ]
  },
  {
   "cell_type": "code",
   "execution_count": 27,
   "id": "6ef16adb",
   "metadata": {},
   "outputs": [
    {
     "name": "stdout",
     "output_type": "stream",
     "text": [
      "63/63 [==============================] - 39s 616ms/step - loss: 7.9410 - accuracy: 0.0500\n",
      "Test Accuracy for EfficientNetB0: 5.00%\n"
     ]
    }
   ],
   "source": [
    "loss, acc = model.evaluate(x_test, y_test)\n",
    "print(f\"Test Accuracy for EfficientNetB0: {acc*100:.2f}%\")"
   ]
  },
  {
   "cell_type": "markdown",
   "id": "a536a0a1",
   "metadata": {},
   "source": [
    "5. DenseNet121 Model"
   ]
  },
  {
   "cell_type": "code",
   "execution_count": 28,
   "id": "f9741156",
   "metadata": {},
   "outputs": [
    {
     "name": "stdout",
     "output_type": "stream",
     "text": [
      "Downloading data from https://storage.googleapis.com/tensorflow/keras-applications/densenet/densenet121_weights_tf_dim_ordering_tf_kernels_notop.h5\n",
      "29084464/29084464 [==============================] - 8s 0us/step\n"
     ]
    }
   ],
   "source": [
    "model_densenet = DenseNet121(weights='imagenet', include_top=False, input_shape=(224,224,3))\n",
    "model_densenet.trainable = False"
   ]
  },
  {
   "cell_type": "code",
   "execution_count": 29,
   "id": "ba509b4c",
   "metadata": {},
   "outputs": [],
   "source": [
    "inputs = model_densenet.input\n",
    "outputs = model_densenet.output\n",
    "x = GlobalAveragePooling2D()(outputs)\n",
    "outputs = Dense(20, activation='relu')(x)\n",
    "model = Model(inputs, outputs)\n",
    "# model.summary(show_trainable=True)"
   ]
  },
  {
   "cell_type": "code",
   "execution_count": 30,
   "id": "ecf508b7",
   "metadata": {},
   "outputs": [
    {
     "name": "stdout",
     "output_type": "stream",
     "text": [
      "282/282 [==============================] - 403s 1s/step - loss: 7.3394 - accuracy: 0.0609 - val_loss: 5.9056 - val_accuracy: 0.1030\n"
     ]
    }
   ],
   "source": [
    "model.compile(optimizer=Adam(1e-4), loss='categorical_crossentropy', metrics=['accuracy'])\n",
    "history = model.fit(x_train, y_train, batch_size=32, epochs=1, validation_split = 0.1)"
   ]
  },
  {
   "cell_type": "code",
   "execution_count": 31,
   "id": "3c8f3cfc",
   "metadata": {},
   "outputs": [
    {
     "name": "stdout",
     "output_type": "stream",
     "text": [
      "63/63 [==============================] - 81s 1s/step - loss: 5.9041 - accuracy: 0.0920\n",
      "Test Accuracy for DenseNet121: 9.20%\n"
     ]
    }
   ],
   "source": [
    "loss, acc = model.evaluate(x_test, y_test)\n",
    "print(f\"Test Accuracy for DenseNet121: {acc*100:.2f}%\")"
   ]
  },
  {
   "cell_type": "markdown",
   "id": "47a921a7",
   "metadata": {},
   "source": [
    "6. NASNetMobile Model"
   ]
  },
  {
   "cell_type": "code",
   "execution_count": 32,
   "id": "19b4e991",
   "metadata": {},
   "outputs": [
    {
     "name": "stdout",
     "output_type": "stream",
     "text": [
      "Downloading data from https://storage.googleapis.com/tensorflow/keras-applications/nasnet/NASNet-mobile-no-top.h5\n",
      "19993432/19993432 [==============================] - 6s 0us/step\n"
     ]
    }
   ],
   "source": [
    "model_nasnet = NASNetMobile(weights='imagenet', include_top=False, input_shape=(224,224,3))\n",
    "model_nasnet.trainable = False"
   ]
  },
  {
   "cell_type": "code",
   "execution_count": 33,
   "id": "4feefa19",
   "metadata": {},
   "outputs": [],
   "source": [
    "inputs = model_nasnet.input\n",
    "outputs = model_nasnet.output\n",
    "x = GlobalAveragePooling2D()(outputs)\n",
    "outputs = Dense(20, activation='relu')(x)\n",
    "model = Model(inputs, outputs)\n",
    "# model.summary(show_trainable=True)"
   ]
  },
  {
   "cell_type": "code",
   "execution_count": 34,
   "id": "f3c5078c",
   "metadata": {},
   "outputs": [
    {
     "name": "stdout",
     "output_type": "stream",
     "text": [
      "282/282 [==============================] - 172s 574ms/step - loss: 5.3513 - accuracy: 0.1630 - val_loss: 3.3849 - val_accuracy: 0.2350\n"
     ]
    }
   ],
   "source": [
    "model.compile(optimizer=Adam(1e-4), loss='categorical_crossentropy', metrics=['accuracy'])\n",
    "history = model.fit(x_train, y_train, batch_size=32, epochs=1, validation_split = 0.1)"
   ]
  },
  {
   "cell_type": "code",
   "execution_count": 35,
   "id": "da471375",
   "metadata": {},
   "outputs": [
    {
     "name": "stdout",
     "output_type": "stream",
     "text": [
      "63/63 [==============================] - 32s 503ms/step - loss: 3.5047 - accuracy: 0.2405\n",
      "Test Accuracy for NASNetMobile: 24.05%\n"
     ]
    }
   ],
   "source": [
    "loss, acc = model.evaluate(x_test, y_test)\n",
    "print(f\"Test Accuracy for NASNetMobile: {acc*100:.2f}%\")"
   ]
  },
  {
   "cell_type": "markdown",
   "id": "9390dc9b",
   "metadata": {},
   "source": [
    "7. EfficientNetV2B0"
   ]
  },
  {
   "cell_type": "code",
   "execution_count": 36,
   "id": "1f6e6742",
   "metadata": {},
   "outputs": [
    {
     "name": "stdout",
     "output_type": "stream",
     "text": [
      "Downloading data from https://storage.googleapis.com/tensorflow/keras-applications/efficientnet_v2/efficientnetv2-b0_notop.h5\n",
      "24274472/24274472 [==============================] - 7s 0us/step\n"
     ]
    }
   ],
   "source": [
    "model_efficientv2 = EfficientNetV2B0(weights='imagenet', include_top=False, input_shape=(224,224,3))\n",
    "model_efficientv2.trainable = False"
   ]
  },
  {
   "cell_type": "code",
   "execution_count": 37,
   "id": "5f7393cd",
   "metadata": {},
   "outputs": [],
   "source": [
    "inputs = model_efficientv2.input\n",
    "outputs = model_efficientv2.output\n",
    "x = GlobalAveragePooling2D()(outputs)\n",
    "outputs = Dense(20, activation='relu')(x)\n",
    "model = Model(inputs, outputs)\n",
    "# model.summary(show_trainable=True)"
   ]
  },
  {
   "cell_type": "code",
   "execution_count": 38,
   "id": "60ccadd5",
   "metadata": {},
   "outputs": [
    {
     "name": "stdout",
     "output_type": "stream",
     "text": [
      "282/282 [==============================] - 131s 448ms/step - loss: 8.5734 - accuracy: 0.0561 - val_loss: 8.8158 - val_accuracy: 0.0590\n"
     ]
    }
   ],
   "source": [
    "model.compile(optimizer=Adam(1e-4), loss='categorical_crossentropy', metrics=['accuracy'])\n",
    "history = model.fit(x_train, y_train, batch_size=32, epochs=1, validation_split = 0.1)"
   ]
  },
  {
   "cell_type": "code",
   "execution_count": 39,
   "id": "ef158793",
   "metadata": {},
   "outputs": [
    {
     "name": "stdout",
     "output_type": "stream",
     "text": [
      "63/63 [==============================] - 25s 393ms/step - loss: 8.5732 - accuracy: 0.0500\n",
      "Test Accuracy for EfficientNetV2B0: 5.00%\n"
     ]
    }
   ],
   "source": [
    "loss, acc = model.evaluate(x_test, y_test)\n",
    "print(f\"Test Accuracy for EfficientNetV2B0: {acc*100:.2f}%\")"
   ]
  },
  {
   "cell_type": "markdown",
   "id": "b80b6337",
   "metadata": {},
   "source": [
    "8. InceptionV3"
   ]
  },
  {
   "cell_type": "code",
   "execution_count": 40,
   "id": "cf27a3b0",
   "metadata": {},
   "outputs": [
    {
     "name": "stdout",
     "output_type": "stream",
     "text": [
      "Downloading data from https://storage.googleapis.com/tensorflow/keras-applications/inception_v3/inception_v3_weights_tf_dim_ordering_tf_kernels_notop.h5\n",
      "87910968/87910968 [==============================] - 25s 0us/step\n"
     ]
    }
   ],
   "source": [
    "model_inception = InceptionV3(weights='imagenet', include_top=False, input_shape=(224,224,3))\n",
    "model_inception.trainable = False"
   ]
  },
  {
   "cell_type": "code",
   "execution_count": 41,
   "id": "df34f5e4",
   "metadata": {},
   "outputs": [],
   "source": [
    "inputs = model_inception.input\n",
    "outputs = model_inception.output\n",
    "x = GlobalAveragePooling2D()(outputs)\n",
    "outputs = Dense(20, activation='relu')(x)\n",
    "model = Model(inputs, outputs)\n",
    "# model.summary(show_trainable=True)"
   ]
  },
  {
   "cell_type": "code",
   "execution_count": 42,
   "id": "ecdb3f02",
   "metadata": {},
   "outputs": [
    {
     "name": "stdout",
     "output_type": "stream",
     "text": [
      "282/282 [==============================] - 200s 697ms/step - loss: 4.3842 - accuracy: 0.1632 - val_loss: 3.3802 - val_accuracy: 0.2750\n"
     ]
    }
   ],
   "source": [
    "model.compile(optimizer=Adam(1e-4), loss='categorical_crossentropy', metrics=['accuracy'])\n",
    "history = model.fit(x_train, y_train, batch_size=32, epochs=1, validation_split = 0.1)"
   ]
  },
  {
   "cell_type": "code",
   "execution_count": 43,
   "id": "02a2d7f5",
   "metadata": {},
   "outputs": [
    {
     "name": "stdout",
     "output_type": "stream",
     "text": [
      "63/63 [==============================] - 39s 623ms/step - loss: 3.2671 - accuracy: 0.2860\n",
      "Test Accuracy for InceptionV3: 28.60%\n"
     ]
    }
   ],
   "source": [
    "loss, acc = model.evaluate(x_test, y_test)\n",
    "print(f\"Test Accuracy for InceptionV3: {acc*100:.2f}%\")"
   ]
  },
  {
   "cell_type": "markdown",
   "id": "bc03187b",
   "metadata": {},
   "source": [
    "9. Xception"
   ]
  },
  {
   "cell_type": "code",
   "execution_count": 44,
   "id": "dc6d508d",
   "metadata": {},
   "outputs": [
    {
     "name": "stdout",
     "output_type": "stream",
     "text": [
      "Downloading data from https://storage.googleapis.com/tensorflow/keras-applications/xception/xception_weights_tf_dim_ordering_tf_kernels_notop.h5\n",
      "83683744/83683744 [==============================] - 24s 0us/step\n"
     ]
    }
   ],
   "source": [
    "model_xception = Xception(weights='imagenet', include_top=False, input_shape=(224,224,3))\n",
    "model_xception.trainable = False"
   ]
  },
  {
   "cell_type": "code",
   "execution_count": 45,
   "id": "e8bd22a4",
   "metadata": {},
   "outputs": [],
   "source": [
    "inputs = model_xception.input\n",
    "outputs = model_xception.output\n",
    "x = GlobalAveragePooling2D()(outputs)\n",
    "outputs = Dense(20, activation='relu')(x)\n",
    "model = Model(inputs, outputs)\n",
    "# model.summary(show_trainable=True)"
   ]
  },
  {
   "cell_type": "code",
   "execution_count": 46,
   "id": "3137938b",
   "metadata": {},
   "outputs": [
    {
     "name": "stdout",
     "output_type": "stream",
     "text": [
      "282/282 [==============================] - 397s 1s/step - loss: 5.5383 - accuracy: 0.3031 - val_loss: 4.4848 - val_accuracy: 0.4650\n"
     ]
    }
   ],
   "source": [
    "model.compile(optimizer=Adam(1e-4), loss='categorical_crossentropy', metrics=['accuracy'])\n",
    "history = model.fit(x_train, y_train, batch_size=32, epochs=1, validation_split = 0.1)"
   ]
  },
  {
   "cell_type": "code",
   "execution_count": 47,
   "id": "8ea504f7",
   "metadata": {},
   "outputs": [
    {
     "name": "stdout",
     "output_type": "stream",
     "text": [
      "63/63 [==============================] - 76s 1s/step - loss: nan - accuracy: 0.4725\n",
      "Test Accuracy for Xception: 47.25%\n"
     ]
    }
   ],
   "source": [
    "loss, acc = model.evaluate(x_test, y_test)\n",
    "print(f\"Test Accuracy for Xception: {acc*100:.2f}%\")"
   ]
  },
  {
   "cell_type": "markdown",
   "id": "86135273",
   "metadata": {},
   "source": [
    "10. InceptionResNetV2"
   ]
  },
  {
   "cell_type": "code",
   "execution_count": 48,
   "id": "2020c5f5",
   "metadata": {},
   "outputs": [
    {
     "name": "stdout",
     "output_type": "stream",
     "text": [
      "Downloading data from https://storage.googleapis.com/tensorflow/keras-applications/inception_resnet_v2/inception_resnet_v2_weights_tf_dim_ordering_tf_kernels_notop.h5\n",
      "219055592/219055592 [==============================] - 61s 0us/step\n"
     ]
    }
   ],
   "source": [
    "model_inceptionv2 = InceptionResNetV2(weights='imagenet', include_top=False, input_shape=(224,224,3))\n",
    "model_inceptionv2.trainable = False"
   ]
  },
  {
   "cell_type": "code",
   "execution_count": 49,
   "id": "22372213",
   "metadata": {},
   "outputs": [],
   "source": [
    "inputs = model_inceptionv2.input\n",
    "outputs = model_inceptionv2.output\n",
    "x = GlobalAveragePooling2D()(outputs)\n",
    "outputs = Dense(20, activation='relu')(x)\n",
    "model = Model(inputs, outputs)\n",
    "# model.summary(show_trainable=True)"
   ]
  },
  {
   "cell_type": "code",
   "execution_count": 50,
   "id": "74342d4b",
   "metadata": {},
   "outputs": [
    {
     "name": "stdout",
     "output_type": "stream",
     "text": [
      "282/282 [==============================] - 446s 2s/step - loss: 6.3273 - accuracy: 0.1861 - val_loss: 4.6662 - val_accuracy: 0.2980\n"
     ]
    }
   ],
   "source": [
    "model.compile(optimizer=Adam(1e-4), loss='categorical_crossentropy', metrics=['accuracy'])\n",
    "history = model.fit(x_train, y_train, batch_size=32, epochs=1, validation_split = 0.1)"
   ]
  },
  {
   "cell_type": "code",
   "execution_count": 51,
   "id": "24951592",
   "metadata": {},
   "outputs": [
    {
     "name": "stdout",
     "output_type": "stream",
     "text": [
      "63/63 [==============================] - 87s 1s/step - loss: 4.8888 - accuracy: 0.2850\n",
      "Test Accuracy for InceptionResNetV2: 28.50%\n"
     ]
    }
   ],
   "source": [
    "loss, acc = model.evaluate(x_test, y_test)\n",
    "print(f\"Test Accuracy for InceptionResNetV2: {acc*100:.2f}%\")"
   ]
  },
  {
   "cell_type": "markdown",
   "id": "99b57e0b",
   "metadata": {},
   "source": [
    "Clear GPU Memory"
   ]
  },
  {
   "cell_type": "code",
   "execution_count": 1,
   "id": "e3edce97",
   "metadata": {},
   "outputs": [
    {
     "name": "stderr",
     "output_type": "stream",
     "text": [
      "2025-05-24 13:58:14.228861: E external/local_xla/xla/stream_executor/cuda/cuda_fft.cc:467] Unable to register cuFFT factory: Attempting to register factory for plugin cuFFT when one has already been registered\n",
      "WARNING: All log messages before absl::InitializeLog() is called are written to STDERR\n",
      "E0000 00:00:1748073494.246274   60202 cuda_dnn.cc:8579] Unable to register cuDNN factory: Attempting to register factory for plugin cuDNN when one has already been registered\n",
      "E0000 00:00:1748073494.252261   60202 cuda_blas.cc:1407] Unable to register cuBLAS factory: Attempting to register factory for plugin cuBLAS when one has already been registered\n",
      "W0000 00:00:1748073494.265016   60202 computation_placer.cc:177] computation placer already registered. Please check linkage and avoid linking the same target more than once.\n",
      "W0000 00:00:1748073494.265032   60202 computation_placer.cc:177] computation placer already registered. Please check linkage and avoid linking the same target more than once.\n",
      "W0000 00:00:1748073494.265034   60202 computation_placer.cc:177] computation placer already registered. Please check linkage and avoid linking the same target more than once.\n",
      "W0000 00:00:1748073494.265035   60202 computation_placer.cc:177] computation placer already registered. Please check linkage and avoid linking the same target more than once.\n",
      "2025-05-24 13:58:14.269096: I tensorflow/core/platform/cpu_feature_guard.cc:210] This TensorFlow binary is optimized to use available CPU instructions in performance-critical operations.\n",
      "To enable the following instructions: AVX2 FMA, in other operations, rebuild TensorFlow with the appropriate compiler flags.\n"
     ]
    },
    {
     "data": {
      "text/plain": [
       "0"
      ]
     },
     "execution_count": 1,
     "metadata": {},
     "output_type": "execute_result"
    }
   ],
   "source": [
    "from tensorflow.keras import backend as K\n",
    "import gc\n",
    "\n",
    "K.clear_session()\n",
    "gc.collect()\n"
   ]
  },
  {
   "cell_type": "code",
   "execution_count": 10,
   "id": "45e9532c",
   "metadata": {},
   "outputs": [
    {
     "ename": "SyntaxError",
     "evalue": "invalid syntax (29176056.py, line 1)",
     "output_type": "error",
     "traceback": [
      "\u001b[0;36m  Cell \u001b[0;32mIn[10], line 1\u001b[0;36m\u001b[0m\n\u001b[0;31m    source tf-env/bin/activate\u001b[0m\n\u001b[0m           ^\u001b[0m\n\u001b[0;31mSyntaxError\u001b[0m\u001b[0;31m:\u001b[0m invalid syntax\n"
     ]
    }
   ],
   "source": [
    "source tf-env/bin/activate"
   ]
  }
 ],
 "metadata": {
  "kernelspec": {
   "display_name": "Python 3",
   "language": "python",
   "name": "python3"
  },
  "language_info": {
   "codemirror_mode": {
    "name": "ipython",
    "version": 3
   },
   "file_extension": ".py",
   "mimetype": "text/x-python",
   "name": "python",
   "nbconvert_exporter": "python",
   "pygments_lexer": "ipython3",
   "version": "3.10.12"
  }
 },
 "nbformat": 4,
 "nbformat_minor": 5
}
